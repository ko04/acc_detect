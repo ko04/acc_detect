{
 "cells": [
  {
   "cell_type": "code",
   "execution_count": null,
   "metadata": {},
   "outputs": [],
   "source": [
    "from sklearn.cluster import KMeans\n",
    "import numpy as np\n",
    "import pandas as pd\n",
    "import sklearn\n",
    "import matplotlib.pyplot as plt"
   ]
  },
  {
   "cell_type": "code",
   "execution_count": null,
   "metadata": {},
   "outputs": [],
   "source": [
    "filename = \"\" #Fill in with appropriate path of cleaned and pre-processed data\n",
    "actorDF = pd.read_csv(filename)\n",
    "actorDF"
   ]
  },
  {
   "cell_type": "code",
   "execution_count": null,
   "metadata": {},
   "outputs": [],
   "source": [
    "#If there are any unnecessary columns that need to be removed do that here\n",
    "#Ex:\n",
    "dropColumns = ['Col 1', 'Col2']\n",
    "actorDF = actorDF.drop(columns=[dropColumns])\n",
    "\n",
    "#When we do get the labels/truth values we need to pop them off from the data\n",
    "y = actorDF['labels']  #Replace labels with column name\n",
    "x = actorDF.drop(columns=['labels'])\n",
    "\n",
    "y = y.to_numpy()\n",
    "x = x.to_numpy()\n",
    "\n",
    "#This normalizes each column of the data\n",
    "for i in range(x.shape[1]):\n",
    "    if np.sum(x[:, i]) == 0:\n",
    "        continue\n",
    "    x[:, i] /= np.sum(x[:, i])\n"
   ]
  },
  {
   "cell_type": "code",
   "execution_count": null,
   "metadata": {},
   "outputs": [],
   "source": [
    "#n_clusters = len(np.unique(y))\n",
    "#When labels are present replace 2 with n_clusters\n",
    "#n_init is the number of times to create and find the clusters.\n",
    "#Without labels I don't know exactly how it will choose the best iteration\n",
    "kmeans = KMeans(n_clusters=2, n_init=50)\n",
    "\n",
    "# Train K-Means.\n",
    "y_pred_kmeans = kmeans.fit_predict(x)\n",
    "\n",
    "# Evaluate the K-Means clustering accuracy.\n",
    "#We can't run this function until we have the labels\n",
    "#sklearn.metrics.accuracy_score(y, y_pred_kmeans) * 100"
   ]
  },
  {
   "cell_type": "code",
   "execution_count": null,
   "metadata": {},
   "outputs": [],
   "source": [
    "#At this point we can create a 2-D or a 3-D graph based on the best features using matplotlib\n",
    "#We can use 3 features since we can set color to be equal to which cluster the model assigned (y_pred_kmeans)"
   ]
  }
 ],
 "metadata": {
  "kernelspec": {
   "display_name": "Python 3",
   "language": "python",
   "name": "python3"
  },
  "language_info": {
   "name": "python",
   "version": "3.11.2"
  },
  "orig_nbformat": 4
 },
 "nbformat": 4,
 "nbformat_minor": 2
}
