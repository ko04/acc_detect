{
 "cells": [
  {
   "cell_type": "code",
   "execution_count": 1,
   "id": "c22e4849",
   "metadata": {
    "_cell_guid": "b1076dfc-b9ad-4769-8c92-a6c4dae69d19",
    "_uuid": "8f2839f25d086af736a60e9eeb907d3b93b6e0e5",
    "execution": {
     "iopub.execute_input": "2022-06-06T11:22:04.284474Z",
     "iopub.status.busy": "2022-06-06T11:22:04.283842Z",
     "iopub.status.idle": "2022-06-06T11:22:10.971949Z",
     "shell.execute_reply": "2022-06-06T11:22:10.971144Z",
     "shell.execute_reply.started": "2022-06-06T10:46:28.537996Z"
    },
    "papermill": {
     "duration": 6.715324,
     "end_time": "2022-06-06T11:22:10.972115",
     "exception": false,
     "start_time": "2022-06-06T11:22:04.256791",
     "status": "completed"
    },
    "tags": []
   },
   "outputs": [],
   "source": [
    "import os\n",
    "import numpy as np\n",
    "import pandas as pd \n",
    "import matplotlib.pyplot as plt\n",
    "import tensorflow as tf\n",
    "from tensorflow.keras import layers\n",
    "from time import perf_counter \n",
    "\n",
    "from keras.callbacks import ModelCheckpoint\n",
    "from keras.models import load_model\n",
    "from tensorflow.keras.utils import plot_model"
   ]
  },
  {
   "cell_type": "code",
   "execution_count": 7,
   "id": "d52bb780",
   "metadata": {
    "execution": {
     "iopub.execute_input": "2022-06-06T11:22:11.318440Z",
     "iopub.status.busy": "2022-06-06T11:22:11.317741Z",
     "iopub.status.idle": "2022-06-06T11:22:11.437737Z",
     "shell.execute_reply": "2022-06-06T11:22:11.438464Z",
     "shell.execute_reply.started": "2022-06-06T10:46:31.868234Z"
    },
    "papermill": {
     "duration": 0.141084,
     "end_time": "2022-06-06T11:22:11.438707",
     "exception": false,
     "start_time": "2022-06-06T11:22:11.297623",
     "status": "completed"
    },
    "tags": []
   },
   "outputs": [
    {
     "name": "stdout",
     "output_type": "stream",
     "text": [
      "Found 791 files belonging to 2 classes.\n",
      "Found 98 files belonging to 2 classes.\n",
      "Found 100 files belonging to 2 classes.\n"
     ]
    }
   ],
   "source": [
    "batch_size = 100\n",
    "img_height = 250\n",
    "img_width = 250\n",
    "\n",
    "## loading training set\n",
    "training_data = tf.keras.preprocessing.image_dataset_from_directory(\n",
    "    'data/train',\n",
    "    seed=42,\n",
    "    image_size= (img_height, img_width),\n",
    "    batch_size=batch_size,\n",
    "    color_mode='rgb'\n",
    ")\n",
    "\n",
    "## loading validation dataset\n",
    "validation_data =  tf.keras.preprocessing.image_dataset_from_directory(\n",
    "    'data/val',\n",
    "    seed=42,\n",
    "    image_size= (img_height, img_width),\n",
    "    batch_size=batch_size,\n",
    "    color_mode='rgb'\n",
    ")\n",
    "\n",
    "## loading testing dataset\n",
    "testing_data = tf.keras.preprocessing.image_dataset_from_directory(\n",
    "    'data/test',\n",
    "    seed=42,\n",
    "    image_size= (img_height, img_width),\n",
    "    batch_size=batch_size,\n",
    "    color_mode='rgb'\n",
    ")\n",
    "\n",
    "## Configuring dataset for performance\n",
    "AUTOTUNE = tf.data.experimental.AUTOTUNE\n",
    "training_data = training_data.cache().prefetch(buffer_size=AUTOTUNE)\n",
    "testing_data = testing_data.cache().prefetch(buffer_size=AUTOTUNE)"
   ]
  },
  {
   "cell_type": "code",
   "execution_count": 6,
   "id": "cca4892e",
   "metadata": {
    "execution": {
     "iopub.execute_input": "2022-06-06T11:22:11.682246Z",
     "iopub.status.busy": "2022-06-06T11:22:11.681351Z",
     "iopub.status.idle": "2022-06-06T11:22:11.685497Z",
     "shell.execute_reply": "2022-06-06T11:22:11.684898Z",
     "shell.execute_reply.started": "2022-06-06T10:46:32.135442Z"
    },
    "papermill": {
     "duration": 0.025718,
     "end_time": "2022-06-06T11:22:11.685637",
     "exception": false,
     "start_time": "2022-06-06T11:22:11.659919",
     "status": "completed"
    },
    "tags": []
   },
   "outputs": [
    {
     "data": {
      "text/plain": [
       "['Accident', 'Non Accident']"
      ]
     },
     "execution_count": 6,
     "metadata": {},
     "output_type": "execute_result"
    }
   ],
   "source": [
    "class_names = training_data.class_names\n",
    "class_names"
   ]
  },
  {
   "cell_type": "code",
   "execution_count": 18,
   "id": "82bc89e3",
   "metadata": {
    "execution": {
     "iopub.execute_input": "2022-06-06T11:22:11.768660Z",
     "iopub.status.busy": "2022-06-06T11:22:11.767963Z",
     "iopub.status.idle": "2022-06-06T11:22:11.826933Z",
     "shell.execute_reply": "2022-06-06T11:22:11.826211Z",
     "shell.execute_reply.started": "2022-06-06T10:46:32.163777Z"
    },
    "papermill": {
     "duration": 0.079717,
     "end_time": "2022-06-06T11:22:11.827076",
     "exception": false,
     "start_time": "2022-06-06T11:22:11.747359",
     "status": "completed"
    },
    "tags": []
   },
   "outputs": [
    {
     "name": "stdout",
     "output_type": "stream",
     "text": [
      "Model: \"sequential_1\"\n",
      "_________________________________________________________________\n",
      " Layer (type)                Output Shape              Param #   \n",
      "=================================================================\n",
      " batch_normalization_1 (Batc  (None, 250, 250, 3)      12        \n",
      " hNormalization)                                                 \n",
      "                                                                 \n",
      " conv2d_4 (Conv2D)           (None, 248, 248, 32)      896       \n",
      "                                                                 \n",
      " max_pooling2d_4 (MaxPooling  (None, 124, 124, 32)     0         \n",
      " 2D)                                                             \n",
      "                                                                 \n",
      " conv2d_5 (Conv2D)           (None, 122, 122, 64)      18496     \n",
      "                                                                 \n",
      " max_pooling2d_5 (MaxPooling  (None, 61, 61, 64)       0         \n",
      " 2D)                                                             \n",
      "                                                                 \n",
      " conv2d_6 (Conv2D)           (None, 59, 59, 128)       73856     \n",
      "                                                                 \n",
      " max_pooling2d_6 (MaxPooling  (None, 29, 29, 128)      0         \n",
      " 2D)                                                             \n",
      "                                                                 \n",
      " conv2d_7 (Conv2D)           (None, 27, 27, 256)       295168    \n",
      "                                                                 \n",
      " max_pooling2d_7 (MaxPooling  (None, 13, 13, 256)      0         \n",
      " 2D)                                                             \n",
      "                                                                 \n",
      " flatten_1 (Flatten)         (None, 43264)             0         \n",
      "                                                                 \n",
      " dense_2 (Dense)             (None, 512)               22151680  \n",
      "                                                                 \n",
      " dense_3 (Dense)             (None, 2)                 1026      \n",
      "                                                                 \n",
      "=================================================================\n",
      "Total params: 22,541,134\n",
      "Trainable params: 22,541,128\n",
      "Non-trainable params: 6\n",
      "_________________________________________________________________\n"
     ]
    }
   ],
   "source": [
    "## CNN Model Initialization\n",
    "model = tf.keras.models.Sequential([\n",
    "  layers.BatchNormalization(),\n",
    "  layers.Conv2D(32, 3, activation='relu'), # Conv2D(f_size, filter_size, activation) # relu, sigmoid, softmax\n",
    "  layers.MaxPooling2D(), # MaxPooling\n",
    "  layers.Conv2D(64, 3, activation='relu'),\n",
    "  layers.MaxPooling2D(),\n",
    "  layers.Conv2D(128, 3, activation='relu'),\n",
    "  layers.MaxPooling2D(),\n",
    "  layers.Conv2D(256, 3, activation='relu'),\n",
    "  layers.MaxPooling2D(),\n",
    "  layers.Flatten(),\n",
    "  layers.Dense(512, activation='relu'),\n",
    "  layers.Dense(len(class_names), activation= 'softmax')\n",
    "])\n",
    "\n",
    "model.compile(optimizer='adam',loss='sparse_categorical_crossentropy', metrics=['accuracy'])\n",
    "model.build((None, 250, 250, 3))\n",
    "model.summary()"
   ]
  },
  {
   "cell_type": "code",
   "execution_count": 17,
   "id": "0192e7be",
   "metadata": {
    "execution": {
     "iopub.execute_input": "2022-06-06T11:22:13.493997Z",
     "iopub.status.busy": "2022-06-06T11:22:13.493302Z",
     "iopub.status.idle": "2022-06-06T11:45:04.193237Z",
     "shell.execute_reply": "2022-06-06T11:45:04.194020Z",
     "shell.execute_reply.started": "2022-06-06T10:46:34.771213Z"
    },
    "papermill": {
     "duration": 1370.724139,
     "end_time": "2022-06-06T11:45:04.194454",
     "exception": false,
     "start_time": "2022-06-06T11:22:13.470315",
     "status": "completed"
    },
    "tags": []
   },
   "outputs": [
    {
     "name": "stdout",
     "output_type": "stream",
     "text": [
      "Epoch 1/20\n",
      "8/8 [==============================] - ETA: 0s - loss: 3.7470 - accuracy: 0.4501\n",
      "Epoch 1: val_accuracy improved from -inf to 0.53061, saving model to model_weights.h5\n",
      "8/8 [==============================] - 28s 3s/step - loss: 3.7470 - accuracy: 0.4501 - val_loss: 0.6993 - val_accuracy: 0.5306\n",
      "Epoch 2/20\n",
      "8/8 [==============================] - ETA: 0s - loss: 0.6979 - accuracy: 0.5196\n",
      "Epoch 2: val_accuracy did not improve from 0.53061\n",
      "8/8 [==============================] - 26s 3s/step - loss: 0.6979 - accuracy: 0.5196 - val_loss: 0.7257 - val_accuracy: 0.5306\n",
      "Epoch 3/20\n",
      "8/8 [==============================] - ETA: 0s - loss: 0.6872 - accuracy: 0.5474\n",
      "Epoch 3: val_accuracy did not improve from 0.53061\n",
      "8/8 [==============================] - 26s 3s/step - loss: 0.6872 - accuracy: 0.5474 - val_loss: 0.6805 - val_accuracy: 0.5306\n",
      "Epoch 4/20\n",
      "8/8 [==============================] - ETA: 0s - loss: 0.6783 - accuracy: 0.5714\n",
      "Epoch 4: val_accuracy did not improve from 0.53061\n",
      "8/8 [==============================] - 27s 3s/step - loss: 0.6783 - accuracy: 0.5714 - val_loss: 0.7096 - val_accuracy: 0.5306\n",
      "Epoch 5/20\n",
      "8/8 [==============================] - ETA: 0s - loss: 0.6559 - accuracy: 0.5879\n",
      "Epoch 5: val_accuracy improved from 0.53061 to 0.65306, saving model to model_weights.h5\n",
      "8/8 [==============================] - 27s 3s/step - loss: 0.6559 - accuracy: 0.5879 - val_loss: 0.6295 - val_accuracy: 0.6531\n",
      "Epoch 6/20\n",
      "8/8 [==============================] - ETA: 0s - loss: 0.6282 - accuracy: 0.6207\n",
      "Epoch 6: val_accuracy did not improve from 0.65306\n",
      "8/8 [==============================] - 26s 3s/step - loss: 0.6282 - accuracy: 0.6207 - val_loss: 0.6104 - val_accuracy: 0.6429\n",
      "Epoch 7/20\n",
      "8/8 [==============================] - ETA: 0s - loss: 0.6018 - accuracy: 0.6802\n",
      "Epoch 7: val_accuracy improved from 0.65306 to 0.67347, saving model to model_weights.h5\n",
      "8/8 [==============================] - 26s 3s/step - loss: 0.6018 - accuracy: 0.6802 - val_loss: 0.5844 - val_accuracy: 0.6735\n",
      "Epoch 8/20\n",
      "8/8 [==============================] - ETA: 0s - loss: 0.5779 - accuracy: 0.6941\n",
      "Epoch 8: val_accuracy did not improve from 0.67347\n",
      "8/8 [==============================] - 26s 3s/step - loss: 0.5779 - accuracy: 0.6941 - val_loss: 0.5789 - val_accuracy: 0.6531\n",
      "Epoch 9/20\n",
      "8/8 [==============================] - ETA: 0s - loss: 0.5436 - accuracy: 0.7295\n",
      "Epoch 9: val_accuracy improved from 0.67347 to 0.73469, saving model to model_weights.h5\n",
      "8/8 [==============================] - 26s 3s/step - loss: 0.5436 - accuracy: 0.7295 - val_loss: 0.5532 - val_accuracy: 0.7347\n",
      "Epoch 10/20\n",
      "8/8 [==============================] - ETA: 0s - loss: 0.4922 - accuracy: 0.7598\n",
      "Epoch 10: val_accuracy improved from 0.73469 to 0.74490, saving model to model_weights.h5\n",
      "8/8 [==============================] - 26s 3s/step - loss: 0.4922 - accuracy: 0.7598 - val_loss: 0.5460 - val_accuracy: 0.7449\n",
      "Epoch 11/20\n",
      "8/8 [==============================] - ETA: 0s - loss: 0.4506 - accuracy: 0.8003\n",
      "Epoch 11: val_accuracy improved from 0.74490 to 0.79592, saving model to model_weights.h5\n",
      "8/8 [==============================] - 26s 3s/step - loss: 0.4506 - accuracy: 0.8003 - val_loss: 0.4914 - val_accuracy: 0.7959\n",
      "Epoch 12/20\n",
      "8/8 [==============================] - ETA: 0s - loss: 0.3860 - accuracy: 0.8243\n",
      "Epoch 12: val_accuracy did not improve from 0.79592\n",
      "8/8 [==============================] - 26s 3s/step - loss: 0.3860 - accuracy: 0.8243 - val_loss: 0.5322 - val_accuracy: 0.7245\n",
      "Epoch 13/20\n",
      "8/8 [==============================] - ETA: 0s - loss: 0.3409 - accuracy: 0.8458\n",
      "Epoch 13: val_accuracy did not improve from 0.79592\n",
      "8/8 [==============================] - 27s 3s/step - loss: 0.3409 - accuracy: 0.8458 - val_loss: 0.7586 - val_accuracy: 0.6735\n",
      "Epoch 14/20\n",
      "8/8 [==============================] - ETA: 0s - loss: 0.2389 - accuracy: 0.8925\n",
      "Epoch 14: val_accuracy did not improve from 0.79592\n",
      "8/8 [==============================] - 26s 3s/step - loss: 0.2389 - accuracy: 0.8925 - val_loss: 0.7931 - val_accuracy: 0.7653\n",
      "Epoch 15/20\n",
      "8/8 [==============================] - ETA: 0s - loss: 0.2154 - accuracy: 0.9014\n",
      "Epoch 15: val_accuracy did not improve from 0.79592\n",
      "8/8 [==============================] - 26s 3s/step - loss: 0.2154 - accuracy: 0.9014 - val_loss: 0.7621 - val_accuracy: 0.7143\n",
      "Epoch 16/20\n",
      "8/8 [==============================] - ETA: 0s - loss: 0.1556 - accuracy: 0.9343\n",
      "Epoch 16: val_accuracy improved from 0.79592 to 0.83673, saving model to model_weights.h5\n",
      "8/8 [==============================] - 28s 3s/step - loss: 0.1556 - accuracy: 0.9343 - val_loss: 0.3869 - val_accuracy: 0.8367\n",
      "Epoch 17/20\n",
      "8/8 [==============================] - ETA: 0s - loss: 0.1192 - accuracy: 0.9608\n",
      "Epoch 17: val_accuracy improved from 0.83673 to 0.84694, saving model to model_weights.h5\n",
      "8/8 [==============================] - 27s 3s/step - loss: 0.1192 - accuracy: 0.9608 - val_loss: 0.4219 - val_accuracy: 0.8469\n",
      "Epoch 18/20\n",
      "8/8 [==============================] - ETA: 0s - loss: 0.1053 - accuracy: 0.9520\n",
      "Epoch 18: val_accuracy did not improve from 0.84694\n",
      "8/8 [==============================] - 26s 3s/step - loss: 0.1053 - accuracy: 0.9520 - val_loss: 0.4973 - val_accuracy: 0.8163\n",
      "Epoch 19/20\n",
      "8/8 [==============================] - ETA: 0s - loss: 0.0846 - accuracy: 0.9697\n",
      "Epoch 19: val_accuracy improved from 0.84694 to 0.91837, saving model to model_weights.h5\n",
      "8/8 [==============================] - 27s 3s/step - loss: 0.0846 - accuracy: 0.9697 - val_loss: 0.3149 - val_accuracy: 0.9184\n",
      "Epoch 20/20\n",
      "8/8 [==============================] - ETA: 0s - loss: 0.0864 - accuracy: 0.9697\n",
      "Epoch 20: val_accuracy did not improve from 0.91837\n",
      "8/8 [==============================] - 27s 3s/step - loss: 0.0864 - accuracy: 0.9697 - val_loss: 0.5001 - val_accuracy: 0.8163\n"
     ]
    }
   ],
   "source": [
    "## Train CNN\n",
    "checkpoint = ModelCheckpoint(\"model_weights.h5\", monitor='val_accuracy', verbose=1, save_best_only=True, mode='max')\n",
    "history = model.fit(training_data, validation_data=validation_data, epochs = 20, callbacks=[checkpoint])"
   ]
  },
  {
   "cell_type": "code",
   "execution_count": 24,
   "id": "4f688b53",
   "metadata": {
    "execution": {
     "iopub.execute_input": "2022-06-06T11:45:04.565527Z",
     "iopub.status.busy": "2022-06-06T11:45:04.564796Z",
     "iopub.status.idle": "2022-06-06T11:45:04.856344Z",
     "shell.execute_reply": "2022-06-06T11:45:04.855786Z",
     "shell.execute_reply.started": "2022-06-06T11:11:37.410351Z"
    },
    "papermill": {
     "duration": 0.389861,
     "end_time": "2022-06-06T11:45:04.856513",
     "exception": false,
     "start_time": "2022-06-06T11:45:04.466652",
     "status": "completed"
    },
    "tags": []
   },
   "outputs": [
    {
     "data": {
      "text/plain": [
       "<matplotlib.legend.Legend at 0x2487359f6d0>"
      ]
     },
     "execution_count": 24,
     "metadata": {},
     "output_type": "execute_result"
    },
    {
     "data": {
      "image/png": "[encoded data removed]",
      "text/plain": [
       "<Figure size 640x480 with 1 Axes>"
      ]
     },
     "metadata": {},
     "output_type": "display_data"
    }
   ],
   "source": [
    "## Write model to json file\n",
    "model_json = model.to_json()\n",
    "with open(\"model.json\", \"w\") as json_file:\n",
    "    json_file.write(model_json)\n",
    "\n",
    "## Training data stats\n",
    "plt.plot(history.history['loss'], label='training loss')\n",
    "plt.plot(history.history['accuracy'], label='training accuracy')\n",
    "plt.xlabel(\"loss\")\n",
    "plt.ylabel(\"epochs\")\n",
    "plt.grid(True)\n",
    "plt.legend()\n",
    "\n",
    "plt.plot(history.history['val_loss'], label = 'validation loss')\n",
    "plt.plot(history.history['val_accuracy'], label = 'validation accuracy')\n",
    "plt.grid(True)\n",
    "plt.legend()"
   ]
  }
 ],
 "metadata": {
  "interpreter": {
   "hash": "916dbcbb3f70747c44a77c7bcd40155683ae19c65e1c03b4aa3499c5328201f1"
  },
  "kernelspec": {
   "display_name": "Python 3 (ipykernel)",
   "language": "python",
   "name": "python3"
  },
  "language_info": {
   "codemirror_mode": {
    "name": "ipython",
    "version": 3
   },
   "file_extension": ".py",
   "mimetype": "text/x-python",
   "name": "python",
   "nbconvert_exporter": "python",
   "pygments_lexer": "ipython3",
   "version": "3.10.7"
  },
  "papermill": {
   "default_parameters": {},
   "duration": 1402.432589,
   "end_time": "2022-06-06T11:45:16.380977",
   "environment_variables": {},
   "exception": null,
   "input_path": "__notebook__.ipynb",
   "output_path": "__notebook__.ipynb",
   "parameters": {},
   "start_time": "2022-06-06T11:21:53.948388",
   "version": "2.3.3"
  }
 },
 "nbformat": 4,
 "nbformat_minor": 5
}
